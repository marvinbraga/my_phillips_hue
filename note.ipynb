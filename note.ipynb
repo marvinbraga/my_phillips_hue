{
 "cells": [
  {
   "cell_type": "code",
   "execution_count": 5,
   "id": "initial_id",
   "metadata": {
    "collapsed": true,
    "ExecuteTime": {
     "end_time": "2023-10-28T07:28:00.251995200Z",
     "start_time": "2023-10-28T07:28:00.240481300Z"
    }
   },
   "outputs": [],
   "source": [
    "from marvin_hue.basics import LightSetupsManager, LightSetting"
   ]
  },
  {
   "cell_type": "code",
   "execution_count": 10,
   "outputs": [],
   "source": [
    "m = LightSetupsManager(\".res/setups.json\")"
   ],
   "metadata": {
    "collapsed": false,
    "ExecuteTime": {
     "end_time": "2023-10-28T07:38:28.123153200Z",
     "start_time": "2023-10-28T07:38:28.110906600Z"
    }
   },
   "id": "1eaaea87eb6eb84c"
  },
  {
   "cell_type": "code",
   "execution_count": 11,
   "outputs": [
    {
     "data": {
      "text/plain": "[<marvin_hue.basics.LightConfig at 0x17dedc85ab0>,\n <marvin_hue.basics.LightConfig at 0x17ded170dc0>,\n <marvin_hue.basics.LightConfig at 0x17dedc9ada0>,\n <marvin_hue.basics.LightConfig at 0x17dedc9a980>,\n <marvin_hue.basics.LightConfig at 0x17dedc9ab60>,\n <marvin_hue.basics.LightConfig at 0x17dedc9bdf0>,\n <marvin_hue.basics.LightConfig at 0x17dedd54550>,\n <marvin_hue.basics.LightConfig at 0x17dedd54c70>,\n <marvin_hue.basics.LightConfig at 0x17dedd55390>,\n <marvin_hue.basics.LightConfig at 0x17dedd559f0>,\n <marvin_hue.basics.LightConfig at 0x17dedd56050>,\n <marvin_hue.basics.LightConfig at 0x17dedd566b0>,\n <marvin_hue.basics.LightConfig at 0x17dedd56d10>,\n <marvin_hue.basics.LightConfig at 0x17dedd57370>,\n <marvin_hue.basics.LightConfig at 0x17dedd579d0>,\n <marvin_hue.basics.LightConfig at 0x17dedd5c070>,\n <marvin_hue.basics.LightConfig at 0x17dedd5c6d0>,\n <marvin_hue.basics.LightConfig at 0x17dedd5cd30>,\n <marvin_hue.basics.LightConfig at 0x17dedd5d390>,\n <marvin_hue.basics.LightConfig at 0x17dedd5d9f0>,\n <marvin_hue.basics.LightConfig at 0x17dedd5e050>,\n <marvin_hue.basics.LightConfig at 0x17dedd5e6b0>,\n <marvin_hue.basics.LightConfig at 0x17dedd5ed10>,\n <marvin_hue.basics.LightConfig at 0x17dedd5f370>,\n <marvin_hue.basics.LightConfig at 0x17dedd5f9d0>,\n <marvin_hue.basics.LightConfig at 0x17dedd64070>,\n <marvin_hue.basics.LightConfig at 0x17dedd646d0>,\n <marvin_hue.basics.LightConfig at 0x17dedd64d30>,\n <marvin_hue.basics.LightConfig at 0x17dedd65390>,\n <marvin_hue.basics.LightConfig at 0x17dedd659f0>,\n <marvin_hue.basics.LightConfig at 0x17dedd66050>,\n <marvin_hue.basics.LightConfig at 0x17dedd666b0>,\n <marvin_hue.basics.LightConfig at 0x17dedd66d10>,\n <marvin_hue.basics.LightConfig at 0x17dedd67370>,\n <marvin_hue.basics.LightConfig at 0x17dedd679d0>,\n <marvin_hue.basics.LightConfig at 0x17dedd6c070>,\n <marvin_hue.basics.LightConfig at 0x17dedd6c6d0>,\n <marvin_hue.basics.LightConfig at 0x17dedd6cd30>,\n <marvin_hue.basics.LightConfig at 0x17dedd6d390>,\n <marvin_hue.basics.LightConfig at 0x17dedd6d9f0>,\n <marvin_hue.basics.LightConfig at 0x17dedd6e050>,\n <marvin_hue.basics.LightConfig at 0x17dedd6e6b0>,\n <marvin_hue.basics.LightConfig at 0x17dedd6ed10>,\n <marvin_hue.basics.LightConfig at 0x17dedd6f430>,\n <marvin_hue.basics.LightConfig at 0x17dedd6fb50>,\n <marvin_hue.basics.LightConfig at 0x17dedd702b0>,\n <marvin_hue.basics.LightConfig at 0x17dedd709d0>,\n <marvin_hue.basics.LightConfig at 0x17dedd710f0>,\n <marvin_hue.basics.LightConfig at 0x17dedd71810>,\n <marvin_hue.basics.LightConfig at 0x17dedd71e70>,\n <marvin_hue.basics.LightConfig at 0x17dedd724d0>,\n <marvin_hue.basics.LightConfig at 0x17dedd72b30>,\n <marvin_hue.basics.LightConfig at 0x17dedd73190>,\n <marvin_hue.basics.LightConfig at 0x17dedd737f0>,\n <marvin_hue.basics.LightConfig at 0x17dedd73e50>,\n <marvin_hue.basics.LightConfig at 0x17dedd784f0>,\n <marvin_hue.basics.LightConfig at 0x17dedd78b50>,\n <marvin_hue.basics.LightConfig at 0x17dedd791b0>,\n <marvin_hue.basics.LightConfig at 0x17dedd79810>,\n <marvin_hue.basics.LightConfig at 0x17dedd79e70>,\n <marvin_hue.basics.LightConfig at 0x17dedd7a4d0>,\n <marvin_hue.basics.LightConfig at 0x17dedd7ab30>,\n <marvin_hue.basics.LightConfig at 0x17dedd7b190>,\n <marvin_hue.basics.LightConfig at 0x17dedd7b7f0>,\n <marvin_hue.basics.LightConfig at 0x17dedd7be50>,\n <marvin_hue.basics.LightConfig at 0x17dedd804f0>,\n <marvin_hue.basics.LightConfig at 0x17dedd80b50>,\n <marvin_hue.basics.LightConfig at 0x17dedd811b0>,\n <marvin_hue.basics.LightConfig at 0x17dedd81810>,\n <marvin_hue.basics.LightConfig at 0x17dedd81e70>,\n <marvin_hue.basics.LightConfig at 0x17dedd824d0>,\n <marvin_hue.basics.LightConfig at 0x17dedd82b30>,\n <marvin_hue.basics.LightConfig at 0x17dedd83190>,\n <marvin_hue.basics.LightConfig at 0x17dedd837f0>,\n <marvin_hue.basics.LightConfig at 0x17dedd83e50>,\n <marvin_hue.basics.LightConfig at 0x17dedd844f0>,\n <marvin_hue.basics.LightConfig at 0x17dedd84b50>,\n <marvin_hue.basics.LightConfig at 0x17dedd851b0>,\n <marvin_hue.basics.LightConfig at 0x17dedd85810>,\n <marvin_hue.basics.LightConfig at 0x17dedd85e70>,\n <marvin_hue.basics.LightConfig at 0x17dedd864d0>,\n <marvin_hue.basics.LightConfig at 0x17dedd86b30>,\n <marvin_hue.basics.LightConfig at 0x17dedd87190>,\n <marvin_hue.basics.LightConfig at 0x17dedd877f0>,\n <marvin_hue.basics.LightConfig at 0x17dedd87e50>,\n <marvin_hue.basics.LightConfig at 0x17dedd8c4f0>,\n <marvin_hue.basics.LightConfig at 0x17dedd8cb50>,\n <marvin_hue.basics.LightConfig at 0x17dedd8d1b0>,\n <marvin_hue.basics.LightConfig at 0x17dedd8d810>,\n <marvin_hue.basics.LightConfig at 0x17dedd8de70>,\n <marvin_hue.basics.LightConfig at 0x17dedd8e590>,\n <marvin_hue.basics.LightConfig at 0x17dedd8ecb0>,\n <marvin_hue.basics.LightConfig at 0x17dedd8f3d0>,\n <marvin_hue.basics.LightConfig at 0x17dedd8faf0>,\n <marvin_hue.basics.LightConfig at 0x17dedd94250>,\n <marvin_hue.basics.LightConfig at 0x17dedd94970>,\n <marvin_hue.basics.LightConfig at 0x17dedd94fd0>,\n <marvin_hue.basics.LightConfig at 0x17dedd95630>,\n <marvin_hue.basics.LightConfig at 0x17dedd95c90>,\n <marvin_hue.basics.LightConfig at 0x17dedd962f0>,\n <marvin_hue.basics.LightConfig at 0x17dedd96950>,\n <marvin_hue.basics.LightConfig at 0x17dedd96fb0>,\n <marvin_hue.basics.LightConfig at 0x17dedd97610>,\n <marvin_hue.basics.LightConfig at 0x17dedd97c70>,\n <marvin_hue.basics.LightConfig at 0x17dedd9c310>,\n <marvin_hue.basics.LightConfig at 0x17dedd9c970>,\n <marvin_hue.basics.LightConfig at 0x17dedd9cfd0>,\n <marvin_hue.basics.LightConfig at 0x17dedd9d630>,\n <marvin_hue.basics.LightConfig at 0x17dedd9dc90>,\n <marvin_hue.basics.LightConfig at 0x17dedd9e2f0>,\n <marvin_hue.basics.LightConfig at 0x17dedd9e950>,\n <marvin_hue.basics.LightConfig at 0x17dedd9efb0>,\n <marvin_hue.basics.LightConfig at 0x17dedd9f610>,\n <marvin_hue.basics.LightConfig at 0x17dedd9fc70>,\n <marvin_hue.basics.LightConfig at 0x17dedda0310>,\n <marvin_hue.basics.LightConfig at 0x17dedda0970>,\n <marvin_hue.basics.LightConfig at 0x17dedda0fd0>,\n <marvin_hue.basics.LightConfig at 0x17dedda1630>,\n <marvin_hue.basics.LightConfig at 0x17dedda1c90>,\n <marvin_hue.basics.LightConfig at 0x17dedda22f0>,\n <marvin_hue.basics.LightConfig at 0x17dedda2950>,\n <marvin_hue.basics.LightConfig at 0x17dedda2fb0>,\n <marvin_hue.basics.LightConfig at 0x17dedda3610>,\n <marvin_hue.basics.LightConfig at 0x17dedda3c70>,\n <marvin_hue.basics.LightConfig at 0x17dedda8310>,\n <marvin_hue.basics.LightConfig at 0x17dedda8970>,\n <marvin_hue.basics.LightConfig at 0x17dedda8fd0>,\n <marvin_hue.basics.LightConfig at 0x17dedda9630>,\n <marvin_hue.basics.LightConfig at 0x17dedda9c90>,\n <marvin_hue.basics.LightConfig at 0x17deddaa2f0>,\n <marvin_hue.basics.LightConfig at 0x17deddaa950>,\n <marvin_hue.basics.LightConfig at 0x17deddaafb0>,\n <marvin_hue.basics.LightConfig at 0x17deddab610>,\n <marvin_hue.basics.LightConfig at 0x17deddabc70>,\n <marvin_hue.basics.LightConfig at 0x17deddb0310>,\n <marvin_hue.basics.LightConfig at 0x17deddb0970>,\n <marvin_hue.basics.LightConfig at 0x17deddb0fd0>,\n <marvin_hue.basics.LightConfig at 0x17deddb16f0>,\n <marvin_hue.basics.LightConfig at 0x17deddb1e10>,\n <marvin_hue.basics.LightConfig at 0x17deddb2530>,\n <marvin_hue.basics.LightConfig at 0x17deddb2c50>,\n <marvin_hue.basics.LightConfig at 0x17deddb3370>]"
     },
     "execution_count": 11,
     "metadata": {},
     "output_type": "execute_result"
    }
   ],
   "source": [
    "m.configs"
   ],
   "metadata": {
    "collapsed": false,
    "ExecuteTime": {
     "end_time": "2023-10-28T07:38:28.874102600Z",
     "start_time": "2023-10-28T07:38:28.855067800Z"
    }
   },
   "id": "f6410b01818fe75a"
  },
  {
   "cell_type": "code",
   "execution_count": 12,
   "outputs": [
    {
     "name": "stdout",
     "output_type": "stream",
     "text": [
      "8 - Nomes: ['Lâmpada 1', 'Lâmpada 2', 'Lâmpada 3', 'Lâmpada 4', 'Hue Iris', 'Hue Play 1', 'Hue Play 2', 'Fita Led', 'Led cima']\n",
      "9 - Nomes: ['Lâmpada 1', 'Lâmpada 2', 'Lâmpada 3', 'Lâmpada 4', 'Hue Iris', 'Hue Play 1', 'Hue Play 2', 'Fita Led', 'Led cima']\n",
      "10 - Nomes: ['Lâmpada 1', 'Lâmpada 2', 'Lâmpada 3', 'Lâmpada 4', 'Hue Iris', 'Hue Play 1', 'Hue Play 2', 'Fita Led', 'Led cima']\n",
      "11 - Nomes: ['Lâmpada 1', 'Lâmpada 2', 'Lâmpada 3', 'Lâmpada 4', 'Hue Iris', 'Hue Play 1', 'Hue Play 2', 'Fita Led', 'Led cima']\n",
      "12 - Nomes: ['Lâmpada 1', 'Lâmpada 2', 'Lâmpada 3', 'Lâmpada 4', 'Hue Iris', 'Hue Play 1', 'Hue Play 2', 'Fita Led', 'Led cima']\n",
      "13 - Nomes: ['Lâmpada 1', 'Lâmpada 2', 'Lâmpada 3', 'Lâmpada 4', 'Hue Iris', 'Hue Play 1', 'Hue Play 2', 'Fita Led', 'Led cima']\n",
      "14 - Nomes: ['Lâmpada 1', 'Lâmpada 2', 'Lâmpada 3', 'Lâmpada 4', 'Hue Iris', 'Hue Play 1', 'Hue Play 2', 'Fita Led', 'Led cima']\n",
      "15 - Nomes: ['Lâmpada 1', 'Lâmpada 2', 'Lâmpada 3', 'Lâmpada 4', 'Hue Iris', 'Hue Play 1', 'Hue Play 2', 'Fita Led', 'Led cima']\n",
      "16 - Nomes: ['Lâmpada 1', 'Lâmpada 2', 'Lâmpada 3', 'Lâmpada 4', 'Hue Iris', 'Hue Play 1', 'Hue Play 2', 'Fita Led', 'Led cima']\n",
      "17 - Nomes: ['Lâmpada 1', 'Lâmpada 2', 'Lâmpada 3', 'Lâmpada 4', 'Hue Iris', 'Hue Play 1', 'Hue Play 2', 'Fita Led', 'Led cima']\n",
      "18 - Nomes: ['Lâmpada 1', 'Lâmpada 2', 'Lâmpada 3', 'Lâmpada 4', 'Hue Iris', 'Hue Play 1', 'Hue Play 2', 'Fita Led', 'Led cima']\n",
      "19 - Nomes: ['Lâmpada 1', 'Lâmpada 2', 'Lâmpada 3', 'Lâmpada 4', 'Hue Iris', 'Hue Play 1', 'Hue Play 2', 'Fita Led', 'Led cima']\n",
      "20 - Nomes: ['Lâmpada 1', 'Lâmpada 2', 'Lâmpada 3', 'Lâmpada 4', 'Hue Iris', 'Hue Play 1', 'Hue Play 2', 'Fita Led', 'Led cima']\n",
      "21 - Nomes: ['Lâmpada 1', 'Lâmpada 2', 'Lâmpada 3', 'Lâmpada 4', 'Hue Iris', 'Hue Play 1', 'Hue Play 2', 'Fita Led', 'Led cima']\n",
      "22 - Nomes: ['Lâmpada 1', 'Lâmpada 2', 'Lâmpada 3', 'Lâmpada 4', 'Hue Iris', 'Hue Play 1', 'Hue Play 2', 'Fita Led', 'Led cima']\n",
      "23 - Nomes: ['Lâmpada 1', 'Lâmpada 2', 'Lâmpada 3', 'Lâmpada 4', 'Hue Iris', 'Hue Play 1', 'Hue Play 2', 'Fita Led', 'Led cima']\n",
      "24 - Nomes: ['Lâmpada 1', 'Lâmpada 2', 'Lâmpada 3', 'Lâmpada 4', 'Hue Iris', 'Hue Play 1', 'Hue Play 2', 'Fita Led', 'Led cima']\n",
      "25 - Nomes: ['Lâmpada 1', 'Lâmpada 2', 'Lâmpada 3', 'Lâmpada 4', 'Hue Iris', 'Hue Play 1', 'Hue Play 2', 'Fita Led', 'Led cima']\n",
      "26 - Nomes: ['Lâmpada 1', 'Lâmpada 2', 'Lâmpada 3', 'Lâmpada 4', 'Hue Iris', 'Hue Play 1', 'Hue Play 2', 'Fita Led', 'Led cima']\n",
      "27 - Nomes: ['Lâmpada 1', 'Lâmpada 2', 'Lâmpada 3', 'Lâmpada 4', 'Hue Iris', 'Hue Play 1', 'Hue Play 2', 'Fita Led', 'Led cima']\n",
      "28 - Nomes: ['Lâmpada 1', 'Lâmpada 2', 'Lâmpada 3', 'Lâmpada 4', 'Hue Iris', 'Hue Play 1', 'Hue Play 2', 'Fita Led', 'Led cima']\n",
      "29 - Nomes: ['Lâmpada 1', 'Lâmpada 2', 'Lâmpada 3', 'Lâmpada 4', 'Hue Iris', 'Hue Play 1', 'Hue Play 2', 'Fita Led', 'Led cima']\n",
      "30 - Nomes: ['Lâmpada 1', 'Lâmpada 2', 'Lâmpada 3', 'Lâmpada 4', 'Hue Iris', 'Hue Play 1', 'Hue Play 2', 'Fita Led', 'Led cima']\n",
      "31 - Nomes: ['Lâmpada 1', 'Lâmpada 2', 'Lâmpada 3', 'Lâmpada 4', 'Hue Iris', 'Hue Play 1', 'Hue Play 2', 'Fita Led', 'Led cima']\n",
      "32 - Nomes: ['Lâmpada 1', 'Lâmpada 2', 'Lâmpada 3', 'Lâmpada 4', 'Hue Iris', 'Hue Play 1', 'Hue Play 2', 'Fita Led', 'Led cima']\n",
      "33 - Nomes: ['Lâmpada 1', 'Lâmpada 2', 'Lâmpada 3', 'Lâmpada 4', 'Hue Iris', 'Hue Play 1', 'Hue Play 2', 'Fita Led', 'Led cima']\n",
      "34 - Nomes: ['Lâmpada 1', 'Lâmpada 2', 'Lâmpada 3', 'Lâmpada 4', 'Hue Iris', 'Hue Play 1', 'Hue Play 2', 'Fita Led', 'Led cima']\n",
      "35 - Nomes: ['Lâmpada 1', 'Lâmpada 2', 'Lâmpada 3', 'Lâmpada 4', 'Hue Iris', 'Hue Play 1', 'Hue Play 2', 'Fita Led', 'Led cima']\n",
      "36 - Nomes: ['Lâmpada 1', 'Lâmpada 2', 'Lâmpada 3', 'Lâmpada 4', 'Hue Iris', 'Hue Play 1', 'Hue Play 2', 'Fita Led', 'Led cima']\n",
      "37 - Nomes: ['Lâmpada 1', 'Lâmpada 2', 'Lâmpada 3', 'Lâmpada 4', 'Hue Iris', 'Hue Play 1', 'Hue Play 2', 'Fita Led', 'Led cima']\n",
      "38 - Nomes: ['Lâmpada 1', 'Lâmpada 2', 'Lâmpada 3', 'Lâmpada 4', 'Hue Iris', 'Hue Play 1', 'Hue Play 2', 'Fita Led', 'Led cima']\n",
      "39 - Nomes: ['Lâmpada 1', 'Lâmpada 2', 'Lâmpada 3', 'Lâmpada 4', 'Hue Iris', 'Hue Play 1', 'Hue Play 2', 'Fita Led', 'Led cima']\n",
      "40 - Nomes: ['Lâmpada 1', 'Lâmpada 2', 'Lâmpada 3', 'Lâmpada 4', 'Hue Iris', 'Hue Play 1', 'Hue Play 2', 'Fita Led', 'Led cima']\n",
      "41 - Nomes: ['Lâmpada 1', 'Lâmpada 2', 'Lâmpada 3', 'Lâmpada 4', 'Hue Iris', 'Hue Play 1', 'Hue Play 2', 'Fita Led', 'Led cima']\n",
      "48 - Nomes: ['Lâmpada 1', 'Lâmpada 2', 'Lâmpada 3', 'Lâmpada 4', 'Hue Iris', 'Hue Play 1', 'Hue Play 2', 'Fita Led', 'Led cima']\n",
      "49 - Nomes: ['Lâmpada 1', 'Lâmpada 2', 'Lâmpada 3', 'Lâmpada 4', 'Hue Iris', 'Hue Play 1', 'Hue Play 2', 'Fita Led', 'Led cima']\n",
      "50 - Nomes: ['Lâmpada 1', 'Lâmpada 2', 'Lâmpada 3', 'Lâmpada 4', 'Hue Iris', 'Hue Play 1', 'Hue Play 2', 'Fita Led', 'Led cima']\n",
      "51 - Nomes: ['Lâmpada 1', 'Lâmpada 2', 'Lâmpada 3', 'Lâmpada 4', 'Hue Iris', 'Hue Play 1', 'Hue Play 2', 'Fita Led', 'Led cima']\n",
      "52 - Nomes: ['Lâmpada 1', 'Lâmpada 2', 'Lâmpada 3', 'Lâmpada 4', 'Hue Iris', 'Hue Play 1', 'Hue Play 2', 'Fita Led', 'Led cima']\n",
      "53 - Nomes: ['Lâmpada 1', 'Lâmpada 2', 'Lâmpada 3', 'Lâmpada 4', 'Hue Iris', 'Hue Play 1', 'Hue Play 2', 'Fita Led', 'Led cima']\n",
      "54 - Nomes: ['Lâmpada 1', 'Lâmpada 2', 'Lâmpada 3', 'Lâmpada 4', 'Hue Iris', 'Hue Play 1', 'Hue Play 2', 'Fita Led', 'Led cima']\n",
      "55 - Nomes: ['Lâmpada 1', 'Lâmpada 2', 'Lâmpada 3', 'Lâmpada 4', 'Hue Iris', 'Hue Play 1', 'Hue Play 2', 'Fita Led', 'Led cima']\n",
      "56 - Nomes: ['Lâmpada 1', 'Lâmpada 2', 'Lâmpada 3', 'Lâmpada 4', 'Hue Iris', 'Hue Play 1', 'Hue Play 2', 'Fita Led', 'Led cima']\n",
      "57 - Nomes: ['Lâmpada 1', 'Lâmpada 2', 'Lâmpada 3', 'Lâmpada 4', 'Hue Iris', 'Hue Play 1', 'Hue Play 2', 'Fita Led', 'Led cima']\n",
      "58 - Nomes: ['Lâmpada 1', 'Lâmpada 2', 'Lâmpada 3', 'Lâmpada 4', 'Hue Iris', 'Hue Play 1', 'Hue Play 2', 'Fita Led', 'Led cima']\n",
      "59 - Nomes: ['Lâmpada 1', 'Lâmpada 2', 'Lâmpada 3', 'Lâmpada 4', 'Hue Iris', 'Hue Play 1', 'Hue Play 2', 'Fita Led', 'Led cima']\n",
      "60 - Nomes: ['Lâmpada 1', 'Lâmpada 2', 'Lâmpada 3', 'Lâmpada 4', 'Hue Iris', 'Hue Play 1', 'Hue Play 2', 'Fita Led', 'Led cima']\n",
      "61 - Nomes: ['Lâmpada 1', 'Lâmpada 2', 'Lâmpada 3', 'Lâmpada 4', 'Hue Iris', 'Hue Play 1', 'Hue Play 2', 'Fita Led', 'Led cima']\n",
      "62 - Nomes: ['Lâmpada 1', 'Lâmpada 2', 'Lâmpada 3', 'Lâmpada 4', 'Hue Iris', 'Hue Play 1', 'Hue Play 2', 'Fita Led', 'Led cima']\n",
      "63 - Nomes: ['Lâmpada 1', 'Lâmpada 2', 'Lâmpada 3', 'Lâmpada 4', 'Hue Iris', 'Hue Play 1', 'Hue Play 2', 'Fita Led', 'Led cima']\n",
      "64 - Nomes: ['Lâmpada 1', 'Lâmpada 2', 'Lâmpada 3', 'Lâmpada 4', 'Hue Iris', 'Hue Play 1', 'Hue Play 2', 'Fita Led', 'Led cima']\n",
      "65 - Nomes: ['Lâmpada 1', 'Lâmpada 2', 'Lâmpada 3', 'Lâmpada 4', 'Hue Iris', 'Hue Play 1', 'Hue Play 2', 'Fita Led', 'Led cima']\n",
      "66 - Nomes: ['Lâmpada 1', 'Lâmpada 2', 'Lâmpada 3', 'Lâmpada 4', 'Hue Iris', 'Hue Play 1', 'Hue Play 2', 'Fita Led', 'Led cima']\n",
      "67 - Nomes: ['Lâmpada 1', 'Lâmpada 2', 'Lâmpada 3', 'Lâmpada 4', 'Hue Iris', 'Hue Play 1', 'Hue Play 2', 'Fita Led', 'Led cima']\n",
      "68 - Nomes: ['Lâmpada 1', 'Lâmpada 2', 'Lâmpada 3', 'Lâmpada 4', 'Hue Iris', 'Hue Play 1', 'Hue Play 2', 'Fita Led', 'Led cima']\n",
      "69 - Nomes: ['Lâmpada 1', 'Lâmpada 2', 'Lâmpada 3', 'Lâmpada 4', 'Hue Iris', 'Hue Play 1', 'Hue Play 2', 'Fita Led', 'Led cima']\n",
      "70 - Nomes: ['Lâmpada 1', 'Lâmpada 2', 'Lâmpada 3', 'Lâmpada 4', 'Hue Iris', 'Hue Play 1', 'Hue Play 2', 'Fita Led', 'Led cima']\n",
      "71 - Nomes: ['Lâmpada 1', 'Lâmpada 2', 'Lâmpada 3', 'Lâmpada 4', 'Hue Iris', 'Hue Play 1', 'Hue Play 2', 'Fita Led', 'Led cima']\n",
      "72 - Nomes: ['Lâmpada 1', 'Lâmpada 2', 'Lâmpada 3', 'Lâmpada 4', 'Hue Iris', 'Hue Play 1', 'Hue Play 2', 'Fita Led', 'Led cima']\n",
      "73 - Nomes: ['Lâmpada 1', 'Lâmpada 2', 'Lâmpada 3', 'Lâmpada 4', 'Hue Iris', 'Hue Play 1', 'Hue Play 2', 'Fita Led', 'Led cima']\n",
      "74 - Nomes: ['Lâmpada 1', 'Lâmpada 2', 'Lâmpada 3', 'Lâmpada 4', 'Hue Iris', 'Hue Play 1', 'Hue Play 2', 'Fita Led', 'Led cima']\n",
      "75 - Nomes: ['Lâmpada 1', 'Lâmpada 2', 'Lâmpada 3', 'Lâmpada 4', 'Hue Iris', 'Hue Play 1', 'Hue Play 2', 'Fita Led', 'Led cima']\n",
      "76 - Nomes: ['Lâmpada 1', 'Lâmpada 2', 'Lâmpada 3', 'Lâmpada 4', 'Hue Iris', 'Hue Play 1', 'Hue Play 2', 'Fita Led', 'Led cima']\n",
      "77 - Nomes: ['Lâmpada 1', 'Lâmpada 2', 'Lâmpada 3', 'Lâmpada 4', 'Hue Iris', 'Hue Play 1', 'Hue Play 2', 'Fita Led', 'Led cima']\n",
      "78 - Nomes: ['Lâmpada 1', 'Lâmpada 2', 'Lâmpada 3', 'Lâmpada 4', 'Hue Iris', 'Hue Play 1', 'Hue Play 2', 'Fita Led', 'Led cima']\n",
      "79 - Nomes: ['Lâmpada 1', 'Lâmpada 2', 'Lâmpada 3', 'Lâmpada 4', 'Hue Iris', 'Hue Play 1', 'Hue Play 2', 'Fita Led', 'Led cima']\n",
      "80 - Nomes: ['Lâmpada 1', 'Lâmpada 2', 'Lâmpada 3', 'Lâmpada 4', 'Hue Iris', 'Hue Play 1', 'Hue Play 2', 'Fita Led', 'Led cima']\n",
      "81 - Nomes: ['Lâmpada 1', 'Lâmpada 2', 'Lâmpada 3', 'Lâmpada 4', 'Hue Iris', 'Hue Play 1', 'Hue Play 2', 'Fita Led', 'Led cima']\n",
      "82 - Nomes: ['Lâmpada 1', 'Lâmpada 2', 'Lâmpada 3', 'Lâmpada 4', 'Hue Iris', 'Hue Play 1', 'Hue Play 2', 'Fita Led', 'Led cima']\n",
      "83 - Nomes: ['Lâmpada 1', 'Lâmpada 2', 'Lâmpada 3', 'Lâmpada 4', 'Hue Iris', 'Hue Play 1', 'Hue Play 2', 'Fita Led', 'Led cima']\n",
      "84 - Nomes: ['Lâmpada 1', 'Lâmpada 2', 'Lâmpada 3', 'Lâmpada 4', 'Hue Iris', 'Hue Play 1', 'Hue Play 2', 'Fita Led', 'Led cima']\n",
      "85 - Nomes: ['Lâmpada 1', 'Lâmpada 2', 'Lâmpada 3', 'Lâmpada 4', 'Hue Iris', 'Hue Play 1', 'Hue Play 2', 'Fita Led', 'Led cima']\n",
      "86 - Nomes: ['Lâmpada 1', 'Lâmpada 2', 'Lâmpada 3', 'Lâmpada 4', 'Hue Iris', 'Hue Play 1', 'Hue Play 2', 'Fita Led', 'Led cima']\n",
      "87 - Nomes: ['Lâmpada 1', 'Lâmpada 2', 'Lâmpada 3', 'Lâmpada 4', 'Hue Iris', 'Hue Play 1', 'Hue Play 2', 'Fita Led', 'Led cima']\n",
      "88 - Nomes: ['Lâmpada 1', 'Lâmpada 2', 'Lâmpada 3', 'Lâmpada 4', 'Hue Iris', 'Hue Play 1', 'Hue Play 2', 'Fita Led', 'Led cima']\n",
      "95 - Nomes: ['Lâmpada 1', 'Lâmpada 2', 'Lâmpada 3', 'Lâmpada 4', 'Hue Iris', 'Hue Play 1', 'Hue Play 2', 'Fita Led', 'Led cima']\n",
      "96 - Nomes: ['Lâmpada 1', 'Lâmpada 2', 'Lâmpada 3', 'Lâmpada 4', 'Hue Iris', 'Hue Play 1', 'Hue Play 2', 'Fita Led', 'Led cima']\n",
      "97 - Nomes: ['Lâmpada 1', 'Lâmpada 2', 'Lâmpada 3', 'Lâmpada 4', 'Hue Iris', 'Hue Play 1', 'Hue Play 2', 'Fita Led', 'Led cima']\n",
      "98 - Nomes: ['Lâmpada 1', 'Lâmpada 2', 'Lâmpada 3', 'Lâmpada 4', 'Hue Iris', 'Hue Play 1', 'Hue Play 2', 'Fita Led', 'Led cima']\n",
      "99 - Nomes: ['Lâmpada 1', 'Lâmpada 2', 'Lâmpada 3', 'Lâmpada 4', 'Hue Iris', 'Hue Play 1', 'Hue Play 2', 'Fita Led', 'Led cima']\n",
      "100 - Nomes: ['Lâmpada 1', 'Lâmpada 2', 'Lâmpada 3', 'Lâmpada 4', 'Hue Iris', 'Hue Play 1', 'Hue Play 2', 'Fita Led', 'Led cima']\n",
      "101 - Nomes: ['Lâmpada 1', 'Lâmpada 2', 'Lâmpada 3', 'Lâmpada 4', 'Hue Iris', 'Hue Play 1', 'Hue Play 2', 'Fita Led', 'Led cima']\n",
      "102 - Nomes: ['Lâmpada 1', 'Lâmpada 2', 'Lâmpada 3', 'Lâmpada 4', 'Hue Iris', 'Hue Play 1', 'Hue Play 2', 'Fita Led', 'Led cima']\n",
      "103 - Nomes: ['Lâmpada 1', 'Lâmpada 2', 'Lâmpada 3', 'Lâmpada 4', 'Hue Iris', 'Hue Play 1', 'Hue Play 2', 'Fita Led', 'Led cima']\n",
      "104 - Nomes: ['Lâmpada 1', 'Lâmpada 2', 'Lâmpada 3', 'Lâmpada 4', 'Hue Iris', 'Hue Play 1', 'Hue Play 2', 'Fita Led', 'Led cima']\n",
      "105 - Nomes: ['Lâmpada 1', 'Lâmpada 2', 'Lâmpada 3', 'Lâmpada 4', 'Hue Iris', 'Hue Play 1', 'Hue Play 2', 'Fita Led', 'Led cima']\n",
      "106 - Nomes: ['Lâmpada 1', 'Lâmpada 2', 'Lâmpada 3', 'Lâmpada 4', 'Hue Iris', 'Hue Play 1', 'Hue Play 2', 'Fita Led', 'Led cima']\n",
      "107 - Nomes: ['Lâmpada 1', 'Lâmpada 2', 'Lâmpada 3', 'Lâmpada 4', 'Hue Iris', 'Hue Play 1', 'Hue Play 2', 'Fita Led', 'Led cima']\n",
      "108 - Nomes: ['Lâmpada 1', 'Lâmpada 2', 'Lâmpada 3', 'Lâmpada 4', 'Hue Iris', 'Hue Play 1', 'Hue Play 2', 'Fita Led', 'Led cima']\n",
      "109 - Nomes: ['Lâmpada 1', 'Lâmpada 2', 'Lâmpada 3', 'Lâmpada 4', 'Hue Iris', 'Hue Play 1', 'Hue Play 2', 'Fita Led', 'Led cima']\n",
      "110 - Nomes: ['Lâmpada 1', 'Lâmpada 2', 'Lâmpada 3', 'Lâmpada 4', 'Hue Iris', 'Hue Play 1', 'Hue Play 2', 'Fita Led', 'Led cima']\n",
      "111 - Nomes: ['Lâmpada 1', 'Lâmpada 2', 'Lâmpada 3', 'Lâmpada 4', 'Hue Iris', 'Hue Play 1', 'Hue Play 2', 'Fita Led', 'Led cima']\n",
      "112 - Nomes: ['Lâmpada 1', 'Lâmpada 2', 'Lâmpada 3', 'Lâmpada 4', 'Hue Iris', 'Hue Play 1', 'Hue Play 2', 'Fita Led', 'Led cima']\n",
      "113 - Nomes: ['Lâmpada 1', 'Lâmpada 2', 'Lâmpada 3', 'Lâmpada 4', 'Hue Iris', 'Hue Play 1', 'Hue Play 2', 'Fita Led', 'Led cima']\n",
      "114 - Nomes: ['Lâmpada 1', 'Lâmpada 2', 'Lâmpada 3', 'Lâmpada 4', 'Hue Iris', 'Hue Play 1', 'Hue Play 2', 'Fita Led', 'Led cima']\n",
      "115 - Nomes: ['Lâmpada 1', 'Lâmpada 2', 'Lâmpada 3', 'Lâmpada 4', 'Hue Iris', 'Hue Play 1', 'Hue Play 2', 'Fita Led', 'Led cima']\n",
      "116 - Nomes: ['Lâmpada 1', 'Lâmpada 2', 'Lâmpada 3', 'Lâmpada 4', 'Hue Iris', 'Hue Play 1', 'Hue Play 2', 'Fita Led', 'Led cima']\n",
      "117 - Nomes: ['Lâmpada 1', 'Lâmpada 2', 'Lâmpada 3', 'Lâmpada 4', 'Hue Iris', 'Hue Play 1', 'Hue Play 2', 'Fita Led', 'Led cima']\n",
      "118 - Nomes: ['Lâmpada 1', 'Lâmpada 2', 'Lâmpada 3', 'Lâmpada 4', 'Hue Iris', 'Hue Play 1', 'Hue Play 2', 'Fita Led', 'Led cima']\n",
      "119 - Nomes: ['Lâmpada 1', 'Lâmpada 2', 'Lâmpada 3', 'Lâmpada 4', 'Hue Iris', 'Hue Play 1', 'Hue Play 2', 'Fita Led', 'Led cima']\n",
      "120 - Nomes: ['Lâmpada 1', 'Lâmpada 2', 'Lâmpada 3', 'Lâmpada 4', 'Hue Iris', 'Hue Play 1', 'Hue Play 2', 'Fita Led', 'Led cima']\n",
      "121 - Nomes: ['Lâmpada 1', 'Lâmpada 2', 'Lâmpada 3', 'Lâmpada 4', 'Hue Iris', 'Hue Play 1', 'Hue Play 2', 'Fita Led', 'Led cima']\n",
      "122 - Nomes: ['Lâmpada 1', 'Lâmpada 2', 'Lâmpada 3', 'Lâmpada 4', 'Hue Iris', 'Hue Play 1', 'Hue Play 2', 'Fita Led', 'Led cima']\n",
      "123 - Nomes: ['Lâmpada 1', 'Lâmpada 2', 'Lâmpada 3', 'Lâmpada 4', 'Hue Iris', 'Hue Play 1', 'Hue Play 2', 'Fita Led', 'Led cima']\n",
      "124 - Nomes: ['Lâmpada 1', 'Lâmpada 2', 'Lâmpada 3', 'Lâmpada 4', 'Hue Iris', 'Hue Play 1', 'Hue Play 2', 'Fita Led', 'Led cima']\n",
      "125 - Nomes: ['Lâmpada 1', 'Lâmpada 2', 'Lâmpada 3', 'Lâmpada 4', 'Hue Iris', 'Hue Play 1', 'Hue Play 2', 'Fita Led', 'Led cima']\n",
      "126 - Nomes: ['Lâmpada 1', 'Lâmpada 2', 'Lâmpada 3', 'Lâmpada 4', 'Hue Iris', 'Hue Play 1', 'Hue Play 2', 'Fita Led', 'Led cima']\n",
      "127 - Nomes: ['Lâmpada 1', 'Lâmpada 2', 'Lâmpada 3', 'Lâmpada 4', 'Hue Iris', 'Hue Play 1', 'Hue Play 2', 'Fita Led', 'Led cima']\n",
      "128 - Nomes: ['Lâmpada 1', 'Lâmpada 2', 'Lâmpada 3', 'Lâmpada 4', 'Hue Iris', 'Hue Play 1', 'Hue Play 2', 'Fita Led', 'Led cima']\n",
      "129 - Nomes: ['Lâmpada 1', 'Lâmpada 2', 'Lâmpada 3', 'Lâmpada 4', 'Hue Iris', 'Hue Play 1', 'Hue Play 2', 'Fita Led', 'Led cima']\n",
      "130 - Nomes: ['Lâmpada 1', 'Lâmpada 2', 'Lâmpada 3', 'Lâmpada 4', 'Hue Iris', 'Hue Play 1', 'Hue Play 2', 'Fita Led', 'Led cima']\n",
      "131 - Nomes: ['Lâmpada 1', 'Lâmpada 2', 'Lâmpada 3', 'Lâmpada 4', 'Hue Iris', 'Hue Play 1', 'Hue Play 2', 'Fita Led', 'Led cima']\n",
      "132 - Nomes: ['Lâmpada 1', 'Lâmpada 2', 'Lâmpada 3', 'Lâmpada 4', 'Hue Iris', 'Hue Play 1', 'Hue Play 2', 'Fita Led', 'Led cima']\n",
      "133 - Nomes: ['Lâmpada 1', 'Lâmpada 2', 'Lâmpada 3', 'Lâmpada 4', 'Hue Iris', 'Hue Play 1', 'Hue Play 2', 'Fita Led', 'Led cima']\n",
      "134 - Nomes: ['Lâmpada 1', 'Lâmpada 2', 'Lâmpada 3', 'Lâmpada 4', 'Hue Iris', 'Hue Play 1', 'Hue Play 2', 'Fita Led', 'Led cima']\n",
      "135 - Nomes: ['Lâmpada 1', 'Lâmpada 2', 'Lâmpada 3', 'Lâmpada 4', 'Hue Iris', 'Hue Play 1', 'Hue Play 2', 'Fita Led', 'Led cima']\n"
     ]
    }
   ],
   "source": [
    "from marvin_hue.colors import Color\n",
    "\n",
    "for i, cfg in enumerate(m.configs):\n",
    "    names = [setting.light_name for setting in cfg.settings]\n",
    "    exists = \"Lâmpada 3\" in names\n",
    "    if not exists:\n",
    "        s2 = cfg.settings[1]\n",
    "        cfg.settings.insert(2, LightSetting(\"Lâmpada 3\", Color(**s2.color.to_dict())))\n",
    "        names = [setting.light_name for setting in cfg.settings]\n",
    "        print(f\"{i} - Nomes: {names}\")\n",
    "        "
   ],
   "metadata": {
    "collapsed": false,
    "ExecuteTime": {
     "end_time": "2023-10-28T07:38:34.390794500Z",
     "start_time": "2023-10-28T07:38:34.376762800Z"
    }
   },
   "id": "b0a5a66b94af522"
  },
  {
   "cell_type": "code",
   "execution_count": 13,
   "outputs": [
    {
     "data": {
      "text/plain": "<marvin_hue.basics.LightSetupsManager at 0x17dedc84220>"
     },
     "execution_count": 13,
     "metadata": {},
     "output_type": "execute_result"
    }
   ],
   "source": [
    "m.save()"
   ],
   "metadata": {
    "collapsed": false,
    "ExecuteTime": {
     "end_time": "2023-10-28T07:39:49.308262Z",
     "start_time": "2023-10-28T07:39:49.243412700Z"
    }
   },
   "id": "33652a343accf97c"
  },
  {
   "cell_type": "code",
   "execution_count": null,
   "outputs": [],
   "source": [],
   "metadata": {
    "collapsed": false
   },
   "id": "3435feee0d3201fc"
  }
 ],
 "metadata": {
  "kernelspec": {
   "display_name": "Python 3",
   "language": "python",
   "name": "python3"
  },
  "language_info": {
   "codemirror_mode": {
    "name": "ipython",
    "version": 2
   },
   "file_extension": ".py",
   "mimetype": "text/x-python",
   "name": "python",
   "nbconvert_exporter": "python",
   "pygments_lexer": "ipython2",
   "version": "2.7.6"
  }
 },
 "nbformat": 4,
 "nbformat_minor": 5
}
