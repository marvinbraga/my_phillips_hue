{
 "cells": [
  {
   "cell_type": "code",
   "execution_count": null,
   "id": "initial_id",
   "metadata": {
    "collapsed": true
   },
   "outputs": [],
   "source": [
    "from marvin_hue.basics import LightSetupsManager, LightSetting"
   ]
  },
  {
   "cell_type": "code",
   "execution_count": null,
   "outputs": [],
   "source": [
    "m = LightSetupsManager(\".res/setups.json\")"
   ],
   "metadata": {
    "collapsed": false
   },
   "id": "1eaaea87eb6eb84c"
  },
  {
   "cell_type": "code",
   "execution_count": null,
   "outputs": [],
   "source": [
    "m.configs"
   ],
   "metadata": {
    "collapsed": false
   },
   "id": "f6410b01818fe75a"
  },
  {
   "cell_type": "markdown",
   "source": [
    "A rotina a seguir é apenas para ajustar os setups que não tinham a lâmpada 3 "
   ],
   "metadata": {
    "collapsed": false
   },
   "id": "f4766aa30720a7bb"
  },
  {
   "cell_type": "code",
   "execution_count": 14,
   "outputs": [],
   "source": [
    "from marvin_hue.colors import Color\n",
    "\n",
    "for i, cfg in enumerate(m.configs):\n",
    "    names = [setting.light_name for setting in cfg.settings]\n",
    "    exists = \"Lâmpada 3\" in names\n",
    "    if not exists:\n",
    "        s2 = cfg.settings[1]\n",
    "        cfg.settings.insert(2, LightSetting(\"Lâmpada 3\", Color(**s2.color.to_dict())))\n",
    "        names = [setting.light_name for setting in cfg.settings]\n",
    "        print(f\"{i} - Nomes: {names}\")\n",
    "        "
   ],
   "metadata": {
    "collapsed": false,
    "ExecuteTime": {
     "end_time": "2023-10-28T07:45:31.368525800Z",
     "start_time": "2023-10-28T07:45:31.355263Z"
    }
   },
   "id": "b0a5a66b94af522"
  },
  {
   "cell_type": "code",
   "execution_count": null,
   "outputs": [],
   "source": [
    "m.save()"
   ],
   "metadata": {
    "collapsed": false
   },
   "id": "33652a343accf97c"
  },
  {
   "cell_type": "code",
   "execution_count": null,
   "outputs": [],
   "source": [],
   "metadata": {
    "collapsed": false
   },
   "id": "3435feee0d3201fc"
  }
 ],
 "metadata": {
  "kernelspec": {
   "display_name": "Python 3",
   "language": "python",
   "name": "python3"
  },
  "language_info": {
   "codemirror_mode": {
    "name": "ipython",
    "version": 2
   },
   "file_extension": ".py",
   "mimetype": "text/x-python",
   "name": "python",
   "nbconvert_exporter": "python",
   "pygments_lexer": "ipython2",
   "version": "2.7.6"
  }
 },
 "nbformat": 4,
 "nbformat_minor": 5
}
